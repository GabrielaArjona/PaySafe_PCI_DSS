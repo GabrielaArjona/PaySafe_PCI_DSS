{
 "cells": [
  {
   "cell_type": "code",
   "execution_count": null,
   "id": "5e37beb4",
   "metadata": {},
   "outputs": [
    {
     "name": "stdout",
     "output_type": "stream",
     "text": [
      "BASE: C:\\Project\\SafePay\\01_Case\n",
      "OUTPUTS folder: C:\\Project\\SafePay\\01_Case\\C_SQL_Audit_and_Analytics\\outputs -> Exists? True\n",
      "Customers CSV: C:\\Project\\SafePay\\01_Case\\A_Payment_Dataflow\\data\\customers.csv -> Exists? True\n",
      "Payments CSV: C:\\Project\\SafePay\\01_Case\\A_Payment_Dataflow\\outputs\\tokenized_payments.csv -> Exists? True\n",
      "Orders CSV: C:\\Project\\SafePay\\01_Case\\C_SQL_Audit_and_Analytics\\data\\orders.csv -> Exists? True\n"
     ]
    }
   ],
   "source": [
    "import pathlib\n",
    "\n",
    "BASE = pathlib.Path(\"..\").resolve().parent\n",
    "print(\"BASE:\", BASE)\n",
    "\n",
    "OUTPUTS = BASE / 'C_SQL_Audit_and_Analytics' / 'outputs'\n",
    "print(\"OUTPUTS folder:\", OUTPUTS, \"-> Exists?\", OUTPUTS.exists())\n",
    "\n",
    "customers_path = BASE / 'A_Payment_Dataflow' / 'data' / 'customers.csv'\n",
    "payments_path = BASE / 'A_Payment_Dataflow' / 'outputs' / 'tokenized_payments.csv'\n",
    "orders_path = BASE / 'C_SQL_Audit_and_Analytics'  / 'data' / 'orders.csv'\n",
    "\n",
    "print(\"Customers CSV:\", customers_path, \"-> Exists?\", customers_path.exists())\n",
    "print(\"Payments CSV:\", payments_path, \"-> Exists?\", payments_path.exists())\n",
    "print(\"Orders CSV:\", orders_path, \"-> Exists?\", orders_path.exists())"
   ]
  },
  {
   "cell_type": "code",
   "execution_count": 25,
   "id": "6ecff1ef",
   "metadata": {},
   "outputs": [
    {
     "name": "stdout",
     "output_type": "stream",
     "text": [
      "DB path: C:\\Project\\SafePay\\01_Case\\C_SQL_Audit_and_Analytics\\outputs\\safepay.db\n",
      "Connected to SQLite\n"
     ]
    }
   ],
   "source": [
    "import sqlite3\n",
    "\n",
    "db_path = OUTPUTS / 'safepay.db'\n",
    "print(\"DB path:\", db_path)\n",
    "\n",
    "try:\n",
    "    conn = sqlite3.connect(db_path)\n",
    "    print(\"Connected to SQLite\")\n",
    "except Exception as e:\n",
    "    print(\"Error when opening DB:\", e)\n"
   ]
  },
  {
   "cell_type": "code",
   "execution_count": null,
   "id": "ff896fe0",
   "metadata": {},
   "outputs": [
    {
     "name": "stdout",
     "output_type": "stream",
     "text": [
      "Customers shape: (250, 6)\n",
      "Orders shape: (1500, 6)\n",
      "Payments shape: (1200, 9)\n",
      "✅ Tablas creadas en SQLite\n",
      "   total_customers\n",
      "0              250\n",
      "   total_orders\n",
      "0          1500\n",
      "   total_payments\n",
      "0            1200\n"
     ]
    }
   ],
   "source": [
    "import pandas as pd\n",
    "\n",
    "# Load CSVs\n",
    "customers = pd.read_csv(customers_path)\n",
    "orders = pd.read_csv(orders_path)\n",
    "payments = pd.read_csv(payments_path)\n",
    "\n",
    "print(\"Customers shape:\", customers.shape)\n",
    "print(\"Orders shape:\", orders.shape)\n",
    "print(\"Payments shape:\", payments.shape)\n",
    "\n",
    "# Save into DB\n",
    "customers.to_sql('customers', conn, if_exists='replace', index=False)\n",
    "orders.to_sql('orders', conn, if_exists='replace', index=False)\n",
    "payments.to_sql('payments_tokenized', conn, if_exists='replace', index=False)\n",
    "\n",
    "print(\"✅ Tablas creadas en SQLite\")\n",
    "\n",
    "# Checking\n",
    "q1 = pd.read_sql(\"SELECT COUNT(*) as total_customers FROM customers\", conn)\n",
    "q2 = pd.read_sql(\"SELECT COUNT(*) as total_orders FROM orders\", conn)\n",
    "q3 = pd.read_sql(\"SELECT COUNT(*) as total_payments FROM payments_tokenized\", conn)\n",
    "\n",
    "print(q1)\n",
    "print(q2)\n",
    "print(q3)\n",
    "\n",
    "conn.close()\n"
   ]
  }
 ],
 "metadata": {
  "kernelspec": {
   "display_name": "Python 3",
   "language": "python",
   "name": "python3"
  },
  "language_info": {
   "codemirror_mode": {
    "name": "ipython",
    "version": 3
   },
   "file_extension": ".py",
   "mimetype": "text/x-python",
   "name": "python",
   "nbconvert_exporter": "python",
   "pygments_lexer": "ipython3",
   "version": "3.12.10"
  }
 },
 "nbformat": 4,
 "nbformat_minor": 5
}
