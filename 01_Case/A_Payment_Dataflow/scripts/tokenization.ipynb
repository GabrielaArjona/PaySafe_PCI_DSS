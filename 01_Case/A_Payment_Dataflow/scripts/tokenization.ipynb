{
 "cells": [
  {
   "cell_type": "markdown",
   "id": "bc1891c4",
   "metadata": {},
   "source": [
    "# A) Payment Dataflow\n",
    "\n",
    "Goal: tokenize each simulated payment"
   ]
  },
  {
   "cell_type": "code",
   "execution_count": 6,
   "id": "9c551536",
   "metadata": {},
   "outputs": [
    {
     "name": "stdout",
     "output_type": "stream",
     "text": [
      "C:\\Project\\SafePay\\01_Case\\A_Payment_Dataflow\n"
     ]
    }
   ],
   "source": [
    "from pathlib import Path\n",
    "import re, datetime, csv, hashlib\n",
    "import pandas as pd\n",
    "BASE = Path('..').resolve()\n",
    "print(BASE)"
   ]
  },
  {
   "cell_type": "code",
   "execution_count": 7,
   "id": "8168e2ce",
   "metadata": {},
   "outputs": [
    {
     "name": "stdout",
     "output_type": "stream",
     "text": [
      "Wrote C:\\Project\\SafePay\\01_Case\\A_Payment_Dataflow\\outputs\\tokenized_payments.csv\n"
     ]
    }
   ],
   "source": [
    "infile= BASE / 'data' / 'payments_raw.csv' \n",
    "outfile= BASE / 'outputs' / 'tokenized_payments.csv' \n",
    "salt='safepay_demo_salt'\n",
    "\n",
    "with open(infile) as inf, open(outfile,'w',newline='') as outf: \n",
    "    r=csv.DictReader(inf)\n",
    "    w=csv.writer(outf)\n",
    "    w.writerow(['payment_pk','customer_id','merchant_txid','amount','status','created_at','token','last4','card_type'])\n",
    "    for row in r:\n",
    "        tok=hashlib.sha256((row['merchant_txid']+salt).encode()).hexdigest()[:24]\n",
    "        card_type='visa' if int(row['last4'])%2==0 else 'mastercard'\n",
    "        w.writerow([row['payment_pk'],row['customer_id'],row['merchant_txid'],row['amount'],row['status'],row['created_at'],tok,row['last4'],card_type])\n",
    "print('Wrote',outfile)\n"
   ]
  }
 ],
 "metadata": {
  "kernelspec": {
   "display_name": "Python 3",
   "language": "python",
   "name": "python3"
  },
  "language_info": {
   "codemirror_mode": {
    "name": "ipython",
    "version": 3
   },
   "file_extension": ".py",
   "mimetype": "text/x-python",
   "name": "python",
   "nbconvert_exporter": "python",
   "pygments_lexer": "ipython3",
   "version": "3.12.10"
  }
 },
 "nbformat": 4,
 "nbformat_minor": 5
}
